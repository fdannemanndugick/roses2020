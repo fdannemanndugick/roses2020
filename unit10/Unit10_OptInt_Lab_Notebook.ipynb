{
 "cells": [
  {
   "cell_type": "markdown",
   "metadata": {},
   "source": [
    "## ROSES Optimal Interpolation (Kriging) Laboratory \n",
    "### 08/25/2020 Tony Lowry"
   ]
  },
  {
   "cell_type": "markdown",
   "metadata": {},
   "source": [
    "In this simple lab you'll go through a few steps (with example python algorithms) for interpolation of fields and \"Bayesian\" likelihood filtering of H-kappa amplitude stacks of receiver functions from the IRIS EARS database. \n",
    "\n",
    "H-kappa stacks are a parameter-space representation of receiver function amplitudes at times predicted for Moho converted-phase arrivals (including reverberations) sampled at arrival times predicted as a function of crustal thickness (H) and seismic velocity ratio (kappa)...\n",
    "\n",
    "The starting data set (in NV_llhks.txt) are ascii outputs from a Bayesian inversion of sites from Nevada (longitude, latitude, crustal thickness (km), Vp/Vs, station name)."
   ]
  },
  {
   "cell_type": "markdown",
   "metadata": {},
   "source": [
    "Because the data are in lon-lat positions, our first step will be to project spherical coordinates onto an x-y (km) format suitable for use with PyKrige. We'll do this with GMT's [mapproject](https://gmt.soest.hawaii.edu/doc/latest/mapproject.html). \n",
    "\n",
    "The scale of the data set is small enough that the type of projection chosen will not matter much. However, if one uses the data for gravity modeling purposes, it is good practice to use an equal-area projection such as [Albers](https://en.wikipedia.org/wiki/Albers_projection): -Jblon0/lat0/lat1/lat2/scale; for Nevada, a reasonable projection would be \n",
    "-Jb-117/38.5/35/42/1. \n",
    "    \n",
    "Whatever you choose though, be sure to specify a 1:1 scale (the 1 at the end of -J!), a range -R that includes all of the data, and -Fk to force distances in km-- Otherwise the variogram distances will be incorrect in the PyKrige scripts we're using!\n",
    "\n",
    "The [PyKrige](https://pypi.org/project/PyKrige/) routine expects a file named NV_xyhks.txt, so name your output that..."
   ]
  },
  {
   "cell_type": "code",
   "execution_count": null,
   "metadata": {},
   "outputs": [],
   "source": [
    "! gmt mapproject NV_llhks.txt -Jb-117/39/35/42/1 -R-120/-114/35/42 -Fk > NV_xyhks.txt"
   ]
  },
  {
   "cell_type": "markdown",
   "metadata": {},
   "source": [
    "Now, being a somewhat novice python coder, I'm not sure how to read a datafile into python that includes a mix of float and text information... So, let's use awk to create a purely numerical data file without the site names. (We'll need that info later though so keep the original file!)"
   ]
  },
  {
   "cell_type": "code",
   "execution_count": null,
   "metadata": {},
   "outputs": [],
   "source": [
    "! awk '{print  $1,$2,$3,$4}' NV_xyhks.txt > NV_xyhk.txt"
   ]
  },
  {
   "cell_type": "markdown",
   "metadata": {},
   "source": [
    "## Part I: Create interpolated grids of the data and their uncertainties"
   ]
  },
  {
   "cell_type": "markdown",
   "metadata": {},
   "source": [
    "The first step toward evaluating our data is to see what it looks like in map view, along with estimates of uncertainty:"
   ]
  },
  {
   "cell_type": "code",
   "execution_count": null,
   "metadata": {},
   "outputs": [],
   "source": [
    "\"\"\"\n",
    "Ordinary Kriging Example (Crustal thickness)\n",
    "============================================\n",
    "\n",
    "First read in the text data file; create the interpolation grid\n",
    "\n",
    "\"\"\"\n",
    "\n",
    "import numpy as np\n",
    "import pykrige.kriging_tools as kt\n",
    "from pykrige.ok import OrdinaryKriging\n",
    "import matplotlib.pyplot as plt\n",
    "\n",
    "with open('NV_xyhk.txt', 'r') as f:\n",
    "  data = np.loadtxt(f)\n",
    "\n",
    "gridx = np.arange(0.0, 540.0, 10.0)\n",
    "gridy = np.arange(0.0, 780.0, 10.0)\n"
   ]
  },
  {
   "cell_type": "markdown",
   "metadata": {},
   "source": [
    "PyKrige enables you to estimate a variogram model directly from the data or to specify parameters of a variogram model based on other information. (One can also plot the variogram model estimates, although here we've set that option to \"False\".) The \"spherical\" model chosen here is generally a good approximation for the behavior of these data, although it is worth being aware that the 89 sites represented in our data file is an extremely small number with which to evaluate a statistical model! Here the verbose setting enables us to see the (sill, nugget, range) parameters associated with the resulting variogram model parameterization."
   ]
  },
  {
   "cell_type": "code",
   "execution_count": null,
   "metadata": {},
   "outputs": [],
   "source": [
    "###############################################################################\n",
    "# Create the ordinary kriging object. Required inputs are the X-coordinates of\n",
    "# the data points, the Y-coordinates of the data points, and the Z-values of the\n",
    "# data points. If no variogram model is specified, defaults to a linear variogram\n",
    "# model. If no variogram model parameters are specified, then the code automatically\n",
    "# calculates the parameters by fitting the variogram model to the binned\n",
    "# experimental semivariogram. The verbose kwarg controls code talk-back, and\n",
    "# the enable_plotting kwarg controls the display of the semivariogram.\n",
    "\n",
    "# For crustal thickness H:\n",
    "\n",
    "OK = OrdinaryKriging(\n",
    "    data[:, 0],\n",
    "    data[:, 1],\n",
    "    data[:, 2],\n",
    "    variogram_model=\"spherical\",\n",
    "    verbose=True,\n",
    "    enable_plotting=False,\n",
    ")"
   ]
  },
  {
   "cell_type": "markdown",
   "metadata": {},
   "source": [
    "The execute function in PyKrige uses the variogram to then create the kriging matrix and evaluate the expected value (z, below) and variance (ss) at each interpolation point."
   ]
  },
  {
   "cell_type": "code",
   "execution_count": null,
   "metadata": {},
   "outputs": [],
   "source": [
    "###############################################################################\n",
    "# Creates the kriged grid and the variance grid. Allows for kriging on a rectangular\n",
    "# grid of points, on a masked rectangular grid of points, or with arbitrary points.\n",
    "# (See OrdinaryKriging.__doc__ for more information.)\n",
    "\n",
    "z, ss = OK.execute(\"grid\", gridx, gridy)"
   ]
  },
  {
   "cell_type": "code",
   "execution_count": null,
   "metadata": {},
   "outputs": [],
   "source": [
    "###############################################################################\n",
    "# Writes the kriged grids of crustal thickness to an ASCII grid file;\n",
    "#  plots both the one-sigma uncertainty and thickness grids.\n",
    "\n",
    "kt.write_asc_grid(gridx, gridy, z, filename=\"OI_H.xyh\")\n",
    "plt.figure(1)\n",
    "plt.imshow(np.sqrt(ss), origin='lower', cmap='rainbow')\n",
    "plt.colorbar()\n",
    "plt.ioff()\n",
    "plt.show()\n",
    "plt.figure(2)\n",
    "plt.imshow(z, origin='lower', cmap='rainbow')\n",
    "plt.colorbar()\n",
    "plt.ioff()\n",
    "plt.show()\n"
   ]
  },
  {
   "cell_type": "markdown",
   "metadata": {},
   "source": [
    "Here, the uncertainty grid has been plotted first, with the crustal thickness below. \n",
    "\n",
    "Oh my! One of these sites is not like the others... And that's because your Nevada data file included one site, TA.M11A, with the crustal thickness value from the raw EARS H-K amplitude stack... The rest had been run through a joint Bayesian inversion using gravity and OI-spatial statistics, described in Lowry & Pérez-Gussinyé (Nature 2011) and Ma & Lowry (Tectonics, 2017).\n",
    "\n",
    "![title](Raw.TA.M11A.png)\n",
    "\n",
    "This site had maximum stack amplitude at a depth of 59 km-- A highly suspect Moho depth for the extensional Basin & Range province, where other measurements are uniformly in the range of about 25-40 km.\n",
    "\n",
    "Note that the uncertainty shows no obvious evidence of the problem (the outlier value does influence the variogram, but that spreads the associated variance uniformly across the region and \"assumes\" this site is different because the regionalized variable itself is different there...)"
   ]
  },
  {
   "cell_type": "code",
   "execution_count": null,
   "metadata": {},
   "outputs": [],
   "source": [
    "# For Vp/Vs, K:\n",
    "\n",
    "OK = OrdinaryKriging(\n",
    "    data[:, 0],\n",
    "    data[:, 1],\n",
    "    data[:, 3],\n",
    "    variogram_model=\"spherical\",\n",
    "    verbose=True,\n",
    "    enable_plotting=False,\n",
    ")"
   ]
  },
  {
   "cell_type": "code",
   "execution_count": null,
   "metadata": {},
   "outputs": [],
   "source": [
    "###############################################################################\n",
    "# Creates the kriged grid and the variance grid. Allows for kriging on a rectangular\n",
    "# grid of points, on a masked rectangular grid of points, or with arbitrary points.\n",
    "# (See OrdinaryKriging.__doc__ for more information.)\n",
    "\n",
    "zk, sk = OK.execute(\"grid\", gridx, gridy)"
   ]
  },
  {
   "cell_type": "code",
   "execution_count": null,
   "metadata": {},
   "outputs": [],
   "source": [
    "###############################################################################\n",
    "# Writes the kriged grid to an ASCII grid file and plot it.\n",
    "\n",
    "kt.write_asc_grid(gridx, gridy, z, filename=\"OI_H.xyh\")\n",
    "plt.figure(3)\n",
    "plt.imshow(np.sqrt(sk), origin='lower', cmap='rainbow')\n",
    "plt.colorbar()\n",
    "plt.ioff()\n",
    "plt.show()\n",
    "plt.figure()\n",
    "plt.imshow(zk, origin='lower', cmap='rainbow')\n",
    "plt.colorbar()\n",
    "plt.ioff()\n",
    "plt.show()"
   ]
  },
  {
   "cell_type": "markdown",
   "metadata": {},
   "source": [
    "For the Vp/Vs variation, the estimate is similarly anomalous at TA.M11A.\n",
    "\n",
    "Time to apply an OI Bayesian inversion!"
   ]
  },
  {
   "cell_type": "markdown",
   "metadata": {},
   "source": [
    "# Part II: OI probability density function parameters (at TA.M11A)"
   ]
  },
  {
   "cell_type": "markdown",
   "metadata": {},
   "source": [
    "First we need to create a new data file that leaves out the suspect site; we'll do this using grep:"
   ]
  },
  {
   "cell_type": "code",
   "execution_count": null,
   "metadata": {},
   "outputs": [],
   "source": [
    "! grep -v TA.M11A NV_xyhks.txt > NVsub_xyhks.txt"
   ]
  },
  {
   "cell_type": "markdown",
   "metadata": {},
   "source": [
    "And again, let's strip out the site names so we can read the file into PyKrige:"
   ]
  },
  {
   "cell_type": "code",
   "execution_count": null,
   "metadata": {},
   "outputs": [],
   "source": [
    "! awk '{print $1,$2,$3,$4}' NVsub_xyhks.txt > NVsub_xyhk.txt"
   ]
  },
  {
   "cell_type": "markdown",
   "metadata": {},
   "source": [
    "In this instance, we don't want to make a gridded map but instead evaluate the expected value and variance for H-K at the TA.M11A site location, using all of the sites *except* TA.M11A. "
   ]
  },
  {
   "cell_type": "code",
   "execution_count": null,
   "metadata": {},
   "outputs": [],
   "source": [
    "! grep TA.M11A NV_xyhks.txt"
   ]
  },
  {
   "cell_type": "markdown",
   "metadata": {},
   "source": [
    "Note that if you used different mapproject flags to get your x-y projection, your (x, y) position will be different than the one used below..."
   ]
  },
  {
   "cell_type": "code",
   "execution_count": null,
   "metadata": {},
   "outputs": [],
   "source": [
    "\"\"\"\n",
    "Ordinary Kriging Example (Crustal thickness)\n",
    "============================================\n",
    "\n",
    "First read in the text data file; Specify the interpolation site (at TA.M11A)\n",
    "\n",
    "\"\"\"\n",
    "\n",
    "import numpy as np\n",
    "import pykrige.kriging_tools as kt\n",
    "from pykrige.ok import OrdinaryKriging\n",
    "import matplotlib.pyplot as plt\n",
    "\n",
    "with open('NVsub_xyhk.txt', 'r') as f:\n",
    "  data = np.loadtxt(f)\n",
    "\n",
    "# This uses the x, y location of TA.M11A from a specific Albers equal area projection-- \n",
    "#   If this is not the x-y position in NV_xyhks.txt of the site you want to evaluate\n",
    "#   the OI probability density function for, substitute the correct coordinates!\n",
    "\n",
    "xs = 374.791883154\n",
    "ys = 715.464502987"
   ]
  },
  {
   "cell_type": "code",
   "execution_count": null,
   "metadata": {},
   "outputs": [],
   "source": [
    "###############################################################################\n",
    "# Create the ordinary kriging object. Required inputs are the X-coordinates of\n",
    "# the data points, the Y-coordinates of the data points, and the Z-values of the\n",
    "# data points. If no variogram model is specified, defaults to a linear variogram\n",
    "# model. If no variogram model parameters are specified, then the code automatically\n",
    "# calculates the parameters by fitting the variogram model to the binned\n",
    "# experimental semivariogram. The verbose kwarg controls code talk-back, and\n",
    "# the enable_plotting kwarg controls the display of the semivariogram.\n",
    "\n",
    "# For crustal thickness H:\n",
    "\n",
    "OK = OrdinaryKriging(\n",
    "    data[:, 0],\n",
    "    data[:, 1],\n",
    "    data[:, 2],\n",
    "    variogram_model=\"spherical\",\n",
    "    verbose=True,\n",
    "    enable_plotting=False,\n",
    ")"
   ]
  },
  {
   "cell_type": "code",
   "execution_count": null,
   "metadata": {},
   "outputs": [],
   "source": [
    "###############################################################################\n",
    "# Evaluates the kriged expected value and sigma. \n",
    "# (See OrdinaryKriging.__doc__ for more information.)\n",
    "\n",
    "zh, sh = OK.execute(\"points\", xs, ys)"
   ]
  },
  {
   "cell_type": "code",
   "execution_count": null,
   "metadata": {},
   "outputs": [],
   "source": [
    "###############################################################################\n",
    "# Writes the pdf parameters:\n",
    "\n",
    "print(zh,np.sqrt(sh))"
   ]
  },
  {
   "cell_type": "markdown",
   "metadata": {},
   "source": [
    "Wait... What? Oh no! These estimates are non-physical!\n",
    "\n",
    "Well, welcome to the world of kriging... Where some combinations of variogram parameters and site distributions can result in matrices that are ill-conditioned or even singular... Resulting in estimates of expected-values and variance that are nonsensical. In [our Fortran inversion code package](http://aconcagua.geol.usu.edu/~arlowry/code_release.html), we use Singular Value Decomposition to mitigate this problem. (I'm not sure what PyKrige uses for matrix inversion, but SVD slows things down. A lot.)\n",
    "\n",
    "Still... Knowing this, we might be able to get a more numerically stable result by using a more robust variogram model. Here I'm specifying the variogram derived from our Fortran-platform analysis, incorporating more than 5000 sites across North America:"
   ]
  },
  {
   "cell_type": "code",
   "execution_count": null,
   "metadata": {},
   "outputs": [],
   "source": [
    "###############################################################################\n",
    "# Create the ordinary kriging object. Required inputs are the X-coordinates of\n",
    "# the data points, the Y-coordinates of the data points, and the Z-values of the\n",
    "# data points. If no variogram model is specified, defaults to a linear variogram\n",
    "# model. If no variogram model parameters are specified, then the code automatically\n",
    "# calculates the parameters by fitting the variogram model to the binned\n",
    "# experimental semivariogram. The verbose kwarg controls code talk-back, and\n",
    "# the enable_plotting kwarg controls the display of the semivariogram.\n",
    "\n",
    "# For crustal thickness H: \n",
    "# Sill is global variance; Range is decorrelation lengthscale; Nugget is zero-lag variance\n",
    "\n",
    "OK = OrdinaryKriging(\n",
    "    data[:, 0],\n",
    "    data[:, 1],\n",
    "    data[:, 2],\n",
    "    variogram_model=\"spherical\",\n",
    "    variogram_parameters=[83.284, 1560, 7.740],\n",
    "    verbose=True,\n",
    "    enable_plotting=False,\n",
    ")"
   ]
  },
  {
   "cell_type": "code",
   "execution_count": null,
   "metadata": {},
   "outputs": [],
   "source": [
    "###############################################################################\n",
    "# Evaluates the kriged expected value and sigma. \n",
    "# (See OrdinaryKriging.__doc__ for more information.)\n",
    "\n",
    "zh, sh = OK.execute(\"points\", xs, ys)"
   ]
  },
  {
   "cell_type": "code",
   "execution_count": null,
   "metadata": {},
   "outputs": [],
   "source": [
    "###############################################################################\n",
    "# Writes the pdf parameters:\n",
    "\n",
    "print(zh,np.sqrt(sh))"
   ]
  },
  {
   "cell_type": "markdown",
   "metadata": {},
   "source": [
    "Whew! Success!\n",
    "\n",
    "To be on the safe side, we'll specify a better-informed variogram model for Vp/Vs as well:"
   ]
  },
  {
   "cell_type": "code",
   "execution_count": null,
   "metadata": {},
   "outputs": [],
   "source": [
    "# For Vp/Vs, K:\n",
    "\n",
    "OK = OrdinaryKriging(\n",
    "    data[:, 0],\n",
    "    data[:, 1],\n",
    "    data[:, 3],\n",
    "    variogram_model=\"spherical\",\n",
    "    variogram_parameters=[0.00205, 600, 0.000723],\n",
    "    verbose=False,\n",
    "    enable_plotting=False,\n",
    ")"
   ]
  },
  {
   "cell_type": "code",
   "execution_count": null,
   "metadata": {},
   "outputs": [],
   "source": [
    "###############################################################################\n",
    "# Evaluates the kriged expected value and sigma.\n",
    "# (See OrdinaryKriging.__doc__ for more information.)\n",
    "\n",
    "zk, sk = OK.execute(\"points\", xs, ys)"
   ]
  },
  {
   "cell_type": "code",
   "execution_count": null,
   "metadata": {},
   "outputs": [],
   "source": [
    "###############################################################################\n",
    "# Writes the pdf parameters to screen:\n",
    "\n",
    "print(zk,np.sqrt(sk))"
   ]
  },
  {
   "cell_type": "markdown",
   "metadata": {},
   "source": [
    "Ah! Now we have all of the parameters we need to create a two-dimensional (multivariate) Gaussian probability density function suitable for use as a Likelihood function in Bayesian inversion. \n",
    "\n",
    "If I were a better coder I'd include python code for that, but instead I'm including a fortran code that you folks can compile and run (or use as a template for developing your own python script) if you so wish. And here are the results:\n",
    "\n",
    "![title](OIF.png)\n",
    "\n",
    "Happy kriging!"
   ]
  },
  {
   "cell_type": "code",
   "execution_count": null,
   "metadata": {},
   "outputs": [],
   "source": []
  },
  {
   "cell_type": "code",
   "execution_count": null,
   "metadata": {},
   "outputs": [],
   "source": []
  }
 ],
 "metadata": {
  "kernelspec": {
   "display_name": "Python 3",
   "language": "python",
   "name": "python3"
  },
  "language_info": {
   "codemirror_mode": {
    "name": "ipython",
    "version": 3
   },
   "file_extension": ".py",
   "mimetype": "text/x-python",
   "name": "python",
   "nbconvert_exporter": "python",
   "pygments_lexer": "ipython3",
   "version": "3.7.8"
  }
 },
 "nbformat": 4,
 "nbformat_minor": 4
}
